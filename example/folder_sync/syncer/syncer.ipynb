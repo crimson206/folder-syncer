{
 "cells": [
  {
   "cell_type": "code",
   "execution_count": 1,
   "metadata": {},
   "outputs": [],
   "source": [
    "from crimson.folder_sync.syncer import FolderSyncer\n",
    "from crimson.folder_sync.debug import Debugger\n",
    "Debugger.set_mode('on')\n",
    "\n",
    "source_dir = \"./source\"\n",
    "output_dir = \"./output\"\n",
    "\n",
    "syncer = FolderSyncer(source_dir, output_dir)"
   ]
  },
  {
   "cell_type": "code",
   "execution_count": 2,
   "metadata": {},
   "outputs": [
    {
     "name": "stdout",
     "output_type": "stream",
     "text": [
      "Watching '/home/crimson/Projects/manager/crimson/folder-syncer/example/folder_sync/syncer/source' for changes...\n"
     ]
    }
   ],
   "source": [
    "syncer.start()"
   ]
  },
  {
   "cell_type": "code",
   "execution_count": 4,
   "metadata": {},
   "outputs": [
    {
     "data": {
      "text/plain": [
       "'print(\"Hello world\")\\n'"
      ]
     },
     "execution_count": 4,
     "metadata": {},
     "output_type": "execute_result"
    }
   ],
   "source": [
    "backup_content = open(f\"{source_dir}/file1.py\").read()\n",
    "\n",
    "backup_content"
   ]
  },
  {
   "cell_type": "code",
   "execution_count": 5,
   "metadata": {},
   "outputs": [
    {
     "data": {
      "text/plain": [
       "16"
      ]
     },
     "execution_count": 5,
     "metadata": {},
     "output_type": "execute_result"
    },
    {
     "name": "stdout",
     "output_type": "stream",
     "text": [
      "Moved '/home/crimson/Projects/manager/crimson/folder-syncer/example/folder_sync/syncer/source/file1.py' to '/home/crimson/Projects/manager/crimson/folder-syncer/example/folder_sync/syncer/output/./file1.py'.\n"
     ]
    }
   ],
   "source": [
    "open(f\"{source_dir}/file1.py\", \"w\").write('print(Modified!)')"
   ]
  },
  {
   "cell_type": "code",
   "execution_count": 6,
   "metadata": {},
   "outputs": [
    {
     "data": {
      "text/plain": [
       "'print(Modified!)'"
      ]
     },
     "execution_count": 6,
     "metadata": {},
     "output_type": "execute_result"
    }
   ],
   "source": [
    "modified_content = open(f\"{source_dir}/file1.py\").read()\n",
    "\n",
    "modified_content"
   ]
  },
  {
   "cell_type": "code",
   "execution_count": 7,
   "metadata": {},
   "outputs": [
    {
     "data": {
      "text/plain": [
       "21"
      ]
     },
     "execution_count": 7,
     "metadata": {},
     "output_type": "execute_result"
    },
    {
     "name": "stdout",
     "output_type": "stream",
     "text": [
      "Moved '/home/crimson/Projects/manager/crimson/folder-syncer/example/folder_sync/syncer/source/file1.py' to '/home/crimson/Projects/manager/crimson/folder-syncer/example/folder_sync/syncer/output/./file1.py'.\n"
     ]
    }
   ],
   "source": [
    "open(f\"{source_dir}/file1.py\", \"w\").write(backup_content)"
   ]
  },
  {
   "cell_type": "code",
   "execution_count": 9,
   "metadata": {},
   "outputs": [
    {
     "data": {
      "text/plain": [
       "'print(\"Hello world\")\\n'"
      ]
     },
     "execution_count": 9,
     "metadata": {},
     "output_type": "execute_result"
    }
   ],
   "source": [
    "open(f\"{source_dir}/file1.py\").read()"
   ]
  },
  {
   "cell_type": "code",
   "execution_count": 8,
   "metadata": {},
   "outputs": [
    {
     "name": "stdout",
     "output_type": "stream",
     "text": [
      "Stopped watching for changes.\n"
     ]
    }
   ],
   "source": [
    "syncer.stop()"
   ]
  }
 ],
 "metadata": {
  "kernelspec": {
   "display_name": "folder-sync",
   "language": "python",
   "name": "python3"
  },
  "language_info": {
   "codemirror_mode": {
    "name": "ipython",
    "version": 3
   },
   "file_extension": ".py",
   "mimetype": "text/x-python",
   "name": "python",
   "nbconvert_exporter": "python",
   "pygments_lexer": "ipython3",
   "version": "3.11.9"
  }
 },
 "nbformat": 4,
 "nbformat_minor": 2
}
