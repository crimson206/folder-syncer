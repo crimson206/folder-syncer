{
 "cells": [
  {
   "cell_type": "code",
   "execution_count": 1,
   "metadata": {},
   "outputs": [],
   "source": [
    "import sys\n",
    "sys.path.append('../')\n",
    "\n",
    "from crimson.folder_sync.syncer import FolderSync\n",
    "from crimson.folder_sync.debug import Debugger\n",
    "from example_tools import ( \n",
    "    delete_dir,\n",
    "    generate_source_dir,\n",
    "    get_dir_structure,\n",
    ")\n"
   ]
  },
  {
   "cell_type": "code",
   "execution_count": 2,
   "metadata": {},
   "outputs": [],
   "source": [
    "Debugger.set_mode('on')\n",
    "\n",
    "source_dir = \"./folder_example/source\"\n",
    "output_dir = \"./folder_example/output\""
   ]
  },
  {
   "cell_type": "code",
   "execution_count": 3,
   "metadata": {},
   "outputs": [
    {
     "name": "stderr",
     "output_type": "stream",
     "text": [
      "example - INFO - Directory, './folder_example/output',  deleted\n"
     ]
    }
   ],
   "source": [
    "delete_dir(output_dir)"
   ]
  },
  {
   "cell_type": "code",
   "execution_count": 4,
   "metadata": {},
   "outputs": [
    {
     "data": {
      "text/plain": [
       "{'file2.py': 'print(\"What a wonderful day!\")\\n',\n",
       " 'file1.py': 'print(\"Hello world\")\\n',\n",
       " 'lvl2/file3.py': 'print(\"File from lvl2.\")\\n'}"
      ]
     },
     "execution_count": 4,
     "metadata": {},
     "output_type": "execute_result"
    }
   ],
   "source": [
    "generate_source_dir()\n",
    "get_dir_structure(source_dir)"
   ]
  },
  {
   "cell_type": "code",
   "execution_count": 5,
   "metadata": {},
   "outputs": [],
   "source": [
    "syncer = FolderSync(source_dir, output_dir)"
   ]
  },
  {
   "cell_type": "code",
   "execution_count": 6,
   "metadata": {},
   "outputs": [
    {
     "name": "stderr",
     "output_type": "stream",
     "text": [
      "FolderSyncer - INFO - Watching './folder_example/source' for changes...\n"
     ]
    }
   ],
   "source": [
    "syncer.start()"
   ]
  },
  {
   "cell_type": "code",
   "execution_count": 7,
   "metadata": {},
   "outputs": [
    {
     "data": {
      "text/plain": [
       "'Syncer must sync the change.'"
      ]
     },
     "execution_count": 7,
     "metadata": {},
     "output_type": "execute_result"
    },
    {
     "name": "stderr",
     "output_type": "stream",
     "text": [
      "SyncHandler - INFO - Synced './folder_example/source/file1.py' to './folder_example/output/file1.py'.\n"
     ]
    }
   ],
   "source": [
    "open(f\"{source_dir}/file1.py\", \"w\").write('print(Modified!)')\n",
    "\n",
    "\"Syncer must sync the change.\""
   ]
  },
  {
   "cell_type": "code",
   "execution_count": 8,
   "metadata": {},
   "outputs": [
    {
     "data": {
      "text/plain": [
       "'print(Modified!)'"
      ]
     },
     "execution_count": 8,
     "metadata": {},
     "output_type": "execute_result"
    }
   ],
   "source": [
    "modified_content = open(f\"{source_dir}/file1.py\").read()\n",
    "modified_content"
   ]
  },
  {
   "cell_type": "code",
   "execution_count": 9,
   "metadata": {},
   "outputs": [
    {
     "name": "stderr",
     "output_type": "stream",
     "text": [
      "FolderSyncer - INFO - Stopped watching for changes.\n"
     ]
    }
   ],
   "source": [
    "syncer.stop()"
   ]
  }
 ],
 "metadata": {
  "kernelspec": {
   "display_name": "folder-sync",
   "language": "python",
   "name": "python3"
  },
  "language_info": {
   "codemirror_mode": {
    "name": "ipython",
    "version": 3
   },
   "file_extension": ".py",
   "mimetype": "text/x-python",
   "name": "python",
   "nbconvert_exporter": "python",
   "pygments_lexer": "ipython3",
   "version": "3.11.9"
  }
 },
 "nbformat": 4,
 "nbformat_minor": 2
}
