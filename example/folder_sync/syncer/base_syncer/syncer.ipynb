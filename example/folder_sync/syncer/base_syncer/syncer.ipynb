{
 "cells": [
  {
   "cell_type": "code",
   "execution_count": 1,
   "metadata": {},
   "outputs": [],
   "source": [
    "import sys\n",
    "import time\n",
    "sys.path.append('../../')\n",
    "\n",
    "source_dir = \"../folder_example/source\"\n",
    "output_dir = \"../folder_example/output\"\n",
    "\n",
    "from crimson.folder_sync.syncer import FolderSyncer\n",
    "from example_tools import ( \n",
    "    delete_dir,\n",
    "    generate_dir,\n",
    "    get_dir_structure,\n",
    "    source_contents\n",
    ")\n"
   ]
  },
  {
   "cell_type": "code",
   "execution_count": 2,
   "metadata": {},
   "outputs": [
    {
     "name": "stderr",
     "output_type": "stream",
     "text": [
      "example - INFO - Directory, '../folder_example/output',  deleted\n"
     ]
    },
    {
     "data": {
      "text/plain": [
       "{'file1.py': 'print(\"Hello world\")\\n',\n",
       " 'file2.py': 'print(\"What a wonderful day!\")\\n',\n",
       " 'lvl2/file3.py': 'print(\"File from lvl2.\")\\n'}"
      ]
     },
     "execution_count": 2,
     "metadata": {},
     "output_type": "execute_result"
    }
   ],
   "source": [
    "delete_dir(output_dir)\n",
    "generate_dir(source_dir, source_contents)\n",
    "get_dir_structure(source_dir)"
   ]
  },
  {
   "cell_type": "code",
   "execution_count": 3,
   "metadata": {},
   "outputs": [],
   "source": [
    "syncer = FolderSyncer(source_dir, output_dir, exclude=[\"*/file3.py\"])"
   ]
  },
  {
   "cell_type": "code",
   "execution_count": 4,
   "metadata": {},
   "outputs": [
    {
     "name": "stderr",
     "output_type": "stream",
     "text": [
      "FolderSyncer - INFO - Performing Refresh sync...\n",
      "SyncHandler - INFO - Performing Refresh sync...\n",
      "SyncHandler - INFO - Synced './../folder_example/source/file2.py' to './../folder_example/output/file2.py'.\n",
      "SyncHandler - INFO - Synced './../folder_example/source/file1.py' to './../folder_example/output/file1.py'.\n",
      "SyncHandler - INFO - Cleaning target directory...\n",
      "SyncHandler - INFO - Target directory cleaning completed.\n",
      "SyncHandler - INFO - Refresh sync completed.\n",
      "FolderSyncer - INFO - Refresh sync completed.\n"
     ]
    }
   ],
   "source": [
    "time.sleep(0.5)\n",
    "\n",
    "syncer.refresh_sync(clean_target=True)"
   ]
  },
  {
   "cell_type": "code",
   "execution_count": 5,
   "metadata": {},
   "outputs": [
    {
     "name": "stderr",
     "output_type": "stream",
     "text": [
      "FolderSyncer - INFO - Watching '../folder_example/source' for changes...\n"
     ]
    }
   ],
   "source": [
    "syncer.start()"
   ]
  },
  {
   "cell_type": "code",
   "execution_count": 6,
   "metadata": {},
   "outputs": [
    {
     "data": {
      "text/plain": [
       "'Syncer must sync the change.'"
      ]
     },
     "execution_count": 6,
     "metadata": {},
     "output_type": "execute_result"
    },
    {
     "name": "stderr",
     "output_type": "stream",
     "text": [
      "SyncHandler - INFO - Synced './../folder_example/source/file1.py' to './../folder_example/output/file1.py'.\n"
     ]
    }
   ],
   "source": [
    "original_content = open(f\"{source_dir}/file1.py\", \"r\").read()\n",
    "\n",
    "open(f\"{source_dir}/file1.py\", \"w\").write(r'print(\"Modified!\")')\n",
    "\n",
    "\"Syncer must sync the change.\""
   ]
  },
  {
   "cell_type": "code",
   "execution_count": 7,
   "metadata": {},
   "outputs": [
    {
     "data": {
      "text/plain": [
       "'print(\"Modified!\")'"
      ]
     },
     "execution_count": 7,
     "metadata": {},
     "output_type": "execute_result"
    }
   ],
   "source": [
    "time.sleep(0.5)\n",
    "\n",
    "new_source_content = open(f\"{source_dir}/file1.py\").read()\n",
    "new_source_content"
   ]
  },
  {
   "cell_type": "code",
   "execution_count": 8,
   "metadata": {},
   "outputs": [
    {
     "data": {
      "text/plain": [
       "'print(\"Modified!\")'"
      ]
     },
     "execution_count": 8,
     "metadata": {},
     "output_type": "execute_result"
    }
   ],
   "source": [
    "time.sleep(0.5)\n",
    "\n",
    "generated_content = open(f\"{output_dir}/file1.py\").read()\n",
    "generated_content"
   ]
  },
  {
   "cell_type": "code",
   "execution_count": 9,
   "metadata": {},
   "outputs": [
    {
     "data": {
      "text/plain": [
       "21"
      ]
     },
     "execution_count": 9,
     "metadata": {},
     "output_type": "execute_result"
    },
    {
     "name": "stderr",
     "output_type": "stream",
     "text": [
      "SyncHandler - INFO - Synced './../folder_example/source/file1.py' to './../folder_example/output/file1.py'.\n"
     ]
    }
   ],
   "source": [
    "time.sleep(0.5)\n",
    "\n",
    "open(f\"{source_dir}/file1.py\", \"w\").write(original_content)"
   ]
  },
  {
   "cell_type": "code",
   "execution_count": 10,
   "metadata": {},
   "outputs": [
    {
     "name": "stderr",
     "output_type": "stream",
     "text": [
      "FolderSyncer - INFO - Stopped watching for changes.\n"
     ]
    }
   ],
   "source": [
    "syncer.stop()"
   ]
  }
 ],
 "metadata": {
  "kernelspec": {
   "display_name": "folder-sync",
   "language": "python",
   "name": "python3"
  },
  "language_info": {
   "codemirror_mode": {
    "name": "ipython",
    "version": 3
   },
   "file_extension": ".py",
   "mimetype": "text/x-python",
   "name": "python",
   "nbconvert_exporter": "python",
   "pygments_lexer": "ipython3",
   "version": "3.11.9"
  }
 },
 "nbformat": 4,
 "nbformat_minor": 2
}
