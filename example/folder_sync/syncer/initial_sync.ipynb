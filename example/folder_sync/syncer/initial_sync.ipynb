{
 "cells": [
  {
   "cell_type": "code",
   "execution_count": 1,
   "metadata": {},
   "outputs": [],
   "source": [
    "import sys\n",
    "sys.path.append('../')"
   ]
  },
  {
   "cell_type": "code",
   "execution_count": 2,
   "metadata": {},
   "outputs": [],
   "source": [
    "from crimson.folder_sync.syncer.base_syncer import initial_sync\n",
    "from example_tools import (\n",
    "    get_dir_structure,\n",
    "    delete_dir\n",
    ")\n",
    "import json\n",
    "\n",
    "\n",
    "def pretty_json(data):\n",
    "    print(json.dumps(data, indent=2))"
   ]
  },
  {
   "cell_type": "code",
   "execution_count": 3,
   "metadata": {},
   "outputs": [
    {
     "name": "stderr",
     "output_type": "stream",
     "text": [
      "example - INFO - Directory, './folder_example/output',  deleted\n"
     ]
    }
   ],
   "source": [
    "source_dir = \"./folder_example/source\"\n",
    "output_dir = \"./folder_example/output\"\n",
    "\n",
    "delete_dir(output_dir)"
   ]
  },
  {
   "cell_type": "code",
   "execution_count": 4,
   "metadata": {},
   "outputs": [
    {
     "name": "stderr",
     "output_type": "stream",
     "text": [
      "FolderSyncer - INFO - Synced './folder_example/source/file2.py' to './folder_example/output/file2.py'.\n",
      "FolderSyncer - INFO - Synced './folder_example/source/file1.py' to './folder_example/output/file1.py'.\n",
      "FolderSyncer - INFO - Synced './folder_example/source/lvl2/file3.py' to './folder_example/output/lvl2/file3.py'.\n"
     ]
    }
   ],
   "source": [
    "initial_sync(source_dir, output_dir)"
   ]
  },
  {
   "cell_type": "code",
   "execution_count": 5,
   "metadata": {},
   "outputs": [
    {
     "name": "stdout",
     "output_type": "stream",
     "text": [
      "{\n",
      "  \"file2.py\": \"print(\\\"What a wonderful day!\\\")\\n\",\n",
      "  \"file1.py\": \"print(\\\"Hello world\\\")\\n\",\n",
      "  \"lvl2/file3.py\": \"print(\\\"File from lvl2.\\\")\\n\"\n",
      "}\n"
     ]
    }
   ],
   "source": [
    "assert get_dir_structure(output_dir) == get_dir_structure(source_dir)\n",
    "\n",
    "dir_structure = get_dir_structure(output_dir)\n",
    "\n",
    "pretty_json(dir_structure)"
   ]
  }
 ],
 "metadata": {
  "kernelspec": {
   "display_name": "folder-sync",
   "language": "python",
   "name": "python3"
  },
  "language_info": {
   "codemirror_mode": {
    "name": "ipython",
    "version": 3
   },
   "file_extension": ".py",
   "mimetype": "text/x-python",
   "name": "python",
   "nbconvert_exporter": "python",
   "pygments_lexer": "ipython3",
   "version": "3.11.9"
  }
 },
 "nbformat": 4,
 "nbformat_minor": 2
}
