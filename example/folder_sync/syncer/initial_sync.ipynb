{
 "cells": [
  {
   "cell_type": "code",
   "execution_count": 43,
   "metadata": {},
   "outputs": [],
   "source": [
    "from crimson.folder_sync.syncer import initial_sync\n",
    "import os\n",
    "import shutil\n",
    "import json\n",
    "\n",
    "def pretty_json(data):\n",
    "    print(json.dumps(data, indent=2))"
   ]
  },
  {
   "cell_type": "code",
   "execution_count": 15,
   "metadata": {},
   "outputs": [],
   "source": [
    "def get_dir_structure(directory):\n",
    "    file_paths = []\n",
    "    for root, _, files in os.walk(directory):\n",
    "        for file in files:\n",
    "            rel_path = os.path.relpath(os.path.join(root, file), directory)\n",
    "            file_paths.append(rel_path)\n",
    "    return sorted(file_paths)"
   ]
  },
  {
   "cell_type": "code",
   "execution_count": 16,
   "metadata": {},
   "outputs": [
    {
     "data": {
      "text/plain": [
       "(False, [])"
      ]
     },
     "execution_count": 16,
     "metadata": {},
     "output_type": "execute_result"
    }
   ],
   "source": [
    "source_dir = \"./source\"\n",
    "output_dir = \"./output\"\n",
    "\n",
    "if os.path.exists(output_dir):\n",
    "    shutil.rmtree(output_dir)\n",
    "\n",
    "os.path.exists(output_dir), get_dir_structure(output_dir)"
   ]
  },
  {
   "cell_type": "code",
   "execution_count": 17,
   "metadata": {},
   "outputs": [
    {
     "name": "stdout",
     "output_type": "stream",
     "text": [
      "Synced './source/file2.py' to './output/file2.py'.\n",
      "Synced './source/file1.py' to './output/file1.py'.\n",
      "Synced './source/lvl2/file3.py' to './output/lvl2/file3.py'.\n"
     ]
    }
   ],
   "source": [
    "initial_sync(source_dir, output_dir)"
   ]
  },
  {
   "cell_type": "code",
   "execution_count": 36,
   "metadata": {},
   "outputs": [
    {
     "data": {
      "text/plain": [
       "['file1.py', 'file2.py', 'lvl2/file3.py']"
      ]
     },
     "execution_count": 36,
     "metadata": {},
     "output_type": "execute_result"
    }
   ],
   "source": [
    "assert get_dir_structure(output_dir) == get_dir_structure(source_dir)\n",
    "\n",
    "generated_paths = get_dir_structure(output_dir)\n",
    "\n",
    "generated_paths"
   ]
  },
  {
   "cell_type": "code",
   "execution_count": 44,
   "metadata": {},
   "outputs": [
    {
     "name": "stdout",
     "output_type": "stream",
     "text": [
      "{\n",
      "  \"source\": \"print(\\\"Hello world\\\")\\n\",\n",
      "  \"output\": \"print(\\\"Hello world\\\")\\n\"\n",
      "}\n"
     ]
    }
   ],
   "source": [
    "import os\n",
    "\n",
    "def get_file_contents(path: str, source_dir: str, output_dir: str) -> dict:\n",
    "    result = {\"source\": None, \"output\": None}\n",
    "    \n",
    "    source_path = os.path.join(source_dir, path)\n",
    "    output_path = os.path.join(output_dir, path)\n",
    "    \n",
    "    result[\"source\"] = open(source_path).read()\n",
    "    result[\"output\"] = open(output_path).read()\n",
    "\n",
    "    return result\n",
    "\n",
    "output = get_file_contents('file1.py', source_dir, output_dir)\n",
    "\n",
    "pretty_json(output)"
   ]
  },
  {
   "cell_type": "code",
   "execution_count": 46,
   "metadata": {},
   "outputs": [
    {
     "name": "stdout",
     "output_type": "stream",
     "text": [
      "[\n",
      "  {\n",
      "    \"source\": \"print(\\\"Hello world\\\")\\n\",\n",
      "    \"output\": \"print(\\\"Hello world\\\")\\n\"\n",
      "  },\n",
      "  {\n",
      "    \"source\": \"print(\\\"What a wonderful day!\\\")\\n\",\n",
      "    \"output\": \"print(\\\"What a wonderful day!\\\")\\n\"\n",
      "  },\n",
      "  {\n",
      "    \"source\": \"print(\\\"File from lvl2.\\\")\\n\",\n",
      "    \"output\": \"print(\\\"File from lvl2.\\\")\\n\"\n",
      "  }\n",
      "]\n"
     ]
    }
   ],
   "source": [
    "all_contents = [get_file_contents(path, source_dir, output_dir) for path in generated_paths]\n",
    "\n",
    "pretty_json(all_contents)"
   ]
  },
  {
   "cell_type": "code",
   "execution_count": 48,
   "metadata": {},
   "outputs": [
    {
     "data": {
      "text/plain": [
       "[True, True, True]"
      ]
     },
     "execution_count": 48,
     "metadata": {},
     "output_type": "execute_result"
    }
   ],
   "source": [
    "comparison = [contents[\"source\"]==contents[\"output\"] for contents in all_contents]\n",
    "\n",
    "assert all(comparison)\n",
    "\n",
    "comparison"
   ]
  }
 ],
 "metadata": {
  "kernelspec": {
   "display_name": "folder-sync",
   "language": "python",
   "name": "python3"
  },
  "language_info": {
   "codemirror_mode": {
    "name": "ipython",
    "version": 3
   },
   "file_extension": ".py",
   "mimetype": "text/x-python",
   "name": "python",
   "nbconvert_exporter": "python",
   "pygments_lexer": "ipython3",
   "version": "3.11.9"
  }
 },
 "nbformat": 4,
 "nbformat_minor": 2
}
