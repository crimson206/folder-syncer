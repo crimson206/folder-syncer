{
 "cells": [
  {
   "cell_type": "code",
   "execution_count": 1,
   "metadata": {},
   "outputs": [],
   "source": [
    "import sys\n",
    "import time\n",
    "sys.path.append('../../')\n",
    "\n",
    "source_dir = \"../folder_example/source\"\n",
    "output_dir = \"../folder_example/output\"\n",
    "\n"
   ]
  },
  {
   "cell_type": "code",
   "execution_count": 2,
   "metadata": {},
   "outputs": [],
   "source": [
    "from crimson.folder_sync.syncer import EditableFolderSyncer\n",
    "from crimson.folder_sync.sync_handlers.editable_sync_handler import SyncFinal\n",
    "from example_tools import ( \n",
    "    delete_dir,\n",
    "    generate_dir,\n",
    "    get_dir_structure,\n",
    "    source_contents\n",
    ")"
   ]
  },
  {
   "cell_type": "markdown",
   "metadata": {},
   "source": [
    "## Sync Final"
   ]
  },
  {
   "cell_type": "code",
   "execution_count": 3,
   "metadata": {},
   "outputs": [
    {
     "name": "stdout",
     "output_type": "stream",
     "text": [
      "modified_content: \n",
      " # modified content\n",
      "print('any content)\n",
      "\n",
      "modified_path: \n",
      " root/path/filename_modified.py\n"
     ]
    }
   ],
   "source": [
    "modified_content, modified_path = SyncFinal.sync_final(\"print('any content)\", \"root/path/filename.py\")\n",
    "print(\"modified_content: \\n\", modified_content) \n",
    "print()\n",
    "print(\"modified_path: \\n\", modified_path) "
   ]
  },
  {
   "cell_type": "code",
   "execution_count": 4,
   "metadata": {},
   "outputs": [],
   "source": [
    "import os\n",
    "from typing import *\n",
    "\n",
    "def sync_final(content: str, path: str) -> Tuple[str, str]:\n",
    "    # 파일 내용 수정\n",
    "    content += \"\\n# Copied One\"\n",
    "    \n",
    "    # 파일 경로 수정\n",
    "    directory, filename = os.path.split(path)\n",
    "    name, ext = os.path.splitext(filename)\n",
    "    new_filename = f\"{name}_modified{ext}\"\n",
    "    new_path = os.path.join(directory, new_filename)\n",
    "    \n",
    "    return content, new_path\n",
    "\n",
    "syncer = EditableFolderSyncer(\n",
    "\tsource_dir=source_dir,\n",
    "\toutput_dir=output_dir,\n",
    "\tsync_final=sync_final,\n",
    ")"
   ]
  },
  {
   "cell_type": "markdown",
   "metadata": {},
   "source": [
    "## Refresh Sync without clean_target"
   ]
  },
  {
   "cell_type": "code",
   "execution_count": 5,
   "metadata": {},
   "outputs": [
    {
     "name": "stderr",
     "output_type": "stream",
     "text": [
      "example - INFO - Directory, '../folder_example/output',  deleted\n"
     ]
    },
    {
     "data": {
      "text/plain": [
       "{'file1.py': 'print(\"Hello world\")\\n',\n",
       " 'file2.py': 'print(\"What a wonderful day!\")\\n',\n",
       " 'lvl2/file3.py': 'print(\"File from lvl2.\")\\n'}"
      ]
     },
     "execution_count": 5,
     "metadata": {},
     "output_type": "execute_result"
    }
   ],
   "source": [
    "delete_dir(output_dir)\n",
    "generate_dir(source_dir, source_contents)\n",
    "get_dir_structure(source_dir)"
   ]
  },
  {
   "cell_type": "code",
   "execution_count": 6,
   "metadata": {},
   "outputs": [
    {
     "name": "stderr",
     "output_type": "stream",
     "text": [
      "FolderSyncer - INFO - Watching '../folder_example/source' for changes...\n"
     ]
    }
   ],
   "source": [
    "syncer.start()"
   ]
  },
  {
   "cell_type": "code",
   "execution_count": 7,
   "metadata": {},
   "outputs": [
    {
     "name": "stderr",
     "output_type": "stream",
     "text": [
      "EditableFolderSyncer - INFO - Performing initial sync...\n",
      "SyncHandler - INFO - Performing Refresh sync...\n",
      "SyncHandler - INFO - Synced './../folder_example/source/file2.py' to './../folder_example/output/file2_modified.py'.\n",
      "SyncHandler - INFO - Synced './../folder_example/source/file1.py' to './../folder_example/output/file1_modified.py'.\n",
      "SyncHandler - INFO - Synced './../folder_example/source/lvl2/file3.py' to './../folder_example/output/lvl2/file3_modified.py'.\n",
      "SyncHandler - INFO - Refresh sync completed.\n",
      "EditableFolderSyncer - INFO - Initial sync completed.\n"
     ]
    }
   ],
   "source": [
    "syncer.refresh_sync()"
   ]
  },
  {
   "cell_type": "code",
   "execution_count": 8,
   "metadata": {},
   "outputs": [
    {
     "name": "stderr",
     "output_type": "stream",
     "text": [
      "example - INFO - Directory, '../folder_example/output',  deleted\n"
     ]
    },
    {
     "data": {
      "text/plain": [
       "{'noise.py': \"print('I was written before you started sync.)\"}"
      ]
     },
     "execution_count": 8,
     "metadata": {},
     "output_type": "execute_result"
    }
   ],
   "source": [
    "previous_outdir_contents = {\n",
    "\t\"./noise.py\" : \"print('I was written before you started sync.)\"\n",
    "}\n",
    "\n",
    "delete_dir(output_dir)\n",
    "generate_dir(output_dir, previous_outdir_contents)\n",
    "get_dir_structure(output_dir)"
   ]
  },
  {
   "cell_type": "code",
   "execution_count": 9,
   "metadata": {},
   "outputs": [
    {
     "name": "stderr",
     "output_type": "stream",
     "text": [
      "EditableFolderSyncer - INFO - Performing initial sync...\n",
      "SyncHandler - INFO - Performing Refresh sync...\n",
      "SyncHandler - INFO - Synced './../folder_example/source/file2.py' to './../folder_example/output/file2_modified.py'.\n",
      "SyncHandler - INFO - Synced './../folder_example/source/file1.py' to './../folder_example/output/file1_modified.py'.\n",
      "SyncHandler - INFO - Synced './../folder_example/source/lvl2/file3.py' to './../folder_example/output/lvl2/file3_modified.py'.\n",
      "SyncHandler - INFO - Refresh sync completed.\n",
      "EditableFolderSyncer - INFO - Initial sync completed.\n"
     ]
    }
   ],
   "source": [
    "syncer.refresh_sync(clean_target=True)\n",
    "\n",
    "time.sleep(0.5)\n",
    "\n"
   ]
  },
  {
   "cell_type": "code",
   "execution_count": 10,
   "metadata": {},
   "outputs": [
    {
     "data": {
      "text/plain": [
       "{'file1.py': 'print(\"Hello world\")\\n',\n",
       " 'file2.py': 'print(\"What a wonderful day!\")\\n',\n",
       " 'lvl2/file3.py': 'print(\"File from lvl2.\")\\n'}"
      ]
     },
     "execution_count": 10,
     "metadata": {},
     "output_type": "execute_result"
    }
   ],
   "source": [
    "source_dir_structure = get_dir_structure(source_dir)\n",
    "source_dir_structure"
   ]
  },
  {
   "cell_type": "code",
   "execution_count": 11,
   "metadata": {},
   "outputs": [
    {
     "data": {
      "text/plain": [
       "{'file1_modified.py': 'print(\"Hello world\")\\n\\n# Copied One',\n",
       " 'file2_modified.py': 'print(\"What a wonderful day!\")\\n\\n# Copied One',\n",
       " 'lvl2/file3_modified.py': 'print(\"File from lvl2.\")\\n\\n# Copied One'}"
      ]
     },
     "execution_count": 11,
     "metadata": {},
     "output_type": "execute_result"
    }
   ],
   "source": [
    "output_dir_structure = get_dir_structure(output_dir)\n",
    "output_dir_structure"
   ]
  },
  {
   "cell_type": "code",
   "execution_count": 12,
   "metadata": {},
   "outputs": [
    {
     "data": {
      "text/plain": [
       "True"
      ]
     },
     "execution_count": 12,
     "metadata": {},
     "output_type": "execute_result"
    }
   ],
   "source": [
    "previous_file_is_not_in_refreshed_output_dir = 'noise.py' not in output_dir_structure.keys()\n",
    "assert previous_file_is_not_in_refreshed_output_dir\n",
    "previous_file_is_not_in_refreshed_output_dir"
   ]
  },
  {
   "cell_type": "code",
   "execution_count": 13,
   "metadata": {},
   "outputs": [
    {
     "data": {
      "text/plain": [
       "'Syncer must sync the change.'"
      ]
     },
     "execution_count": 13,
     "metadata": {},
     "output_type": "execute_result"
    },
    {
     "name": "stderr",
     "output_type": "stream",
     "text": [
      "SyncHandler - INFO - Synced './../folder_example/source/file1.py' to './../folder_example/output/file1_modified.py'.\n"
     ]
    }
   ],
   "source": [
    "original_content = open(f\"{source_dir}/file1.py\", \"r\").read()\n",
    "\n",
    "open(f\"{source_dir}/file1.py\", \"w\").write(r'print(\"Modified!\")')\n",
    "\n",
    "\"Syncer must sync the change.\""
   ]
  },
  {
   "cell_type": "code",
   "execution_count": 14,
   "metadata": {},
   "outputs": [
    {
     "data": {
      "text/plain": [
       "'print(\"Modified!\")'"
      ]
     },
     "execution_count": 14,
     "metadata": {},
     "output_type": "execute_result"
    }
   ],
   "source": [
    "time.sleep(0.5)\n",
    "\n",
    "new_source_content = open(f\"{source_dir}/file1.py\").read()\n",
    "new_source_content"
   ]
  },
  {
   "cell_type": "code",
   "execution_count": 15,
   "metadata": {},
   "outputs": [
    {
     "data": {
      "text/plain": [
       "'print(\"Modified!\")\\n# Copied One'"
      ]
     },
     "execution_count": 15,
     "metadata": {},
     "output_type": "execute_result"
    }
   ],
   "source": [
    "time.sleep(0.5)\n",
    "\n",
    "output_path = f\"{output_dir}/file1.py\"\n",
    "\n",
    "modified_content, modified_path = sync_final(new_source_content, output_path)\n",
    "\n",
    "generated_content = open(modified_path).read()\n",
    "generated_content"
   ]
  },
  {
   "cell_type": "code",
   "execution_count": 16,
   "metadata": {},
   "outputs": [
    {
     "name": "stderr",
     "output_type": "stream",
     "text": [
      "SyncHandler - INFO - Synced './../folder_example/source/file1.py' to './../folder_example/output/file1_modified.py'.\n"
     ]
    },
    {
     "data": {
      "text/plain": [
       "21"
      ]
     },
     "execution_count": 16,
     "metadata": {},
     "output_type": "execute_result"
    }
   ],
   "source": [
    "time.sleep(0.5)\n",
    "\n",
    "open(f\"{source_dir}/file1.py\", \"w\").write(original_content)"
   ]
  },
  {
   "cell_type": "code",
   "execution_count": 17,
   "metadata": {},
   "outputs": [
    {
     "name": "stderr",
     "output_type": "stream",
     "text": [
      "FolderSyncer - INFO - Stopped watching for changes.\n"
     ]
    }
   ],
   "source": [
    "syncer.stop()"
   ]
  }
 ],
 "metadata": {
  "kernelspec": {
   "display_name": "folder-sync",
   "language": "python",
   "name": "python3"
  },
  "language_info": {
   "codemirror_mode": {
    "name": "ipython",
    "version": 3
   },
   "file_extension": ".py",
   "mimetype": "text/x-python",
   "name": "python",
   "nbconvert_exporter": "python",
   "pygments_lexer": "ipython3",
   "version": "3.11.9"
  }
 },
 "nbformat": 4,
 "nbformat_minor": 2
}
