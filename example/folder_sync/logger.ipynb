{
 "cells": [
  {
   "cell_type": "code",
   "execution_count": 1,
   "metadata": {},
   "outputs": [],
   "source": [
    "from crimson.folder_sync.syncer import initial_sync\n",
    "from crimson.folder_sync.logger import get_logger\n",
    "from example_tools import (\n",
    "     delete_dir,\n",
    "     get_example_dirs,\n",
    ")\n",
    "import sys\n",
    "import time\n",
    "\n",
    "source_dir, output_dir = get_example_dirs()\n",
    "main_logger = get_logger()\n",
    "example_logger = get_logger(\"example\")"
   ]
  },
  {
   "cell_type": "code",
   "execution_count": 2,
   "metadata": {},
   "outputs": [
    {
     "name": "stderr",
     "output_type": "stream",
     "text": [
      "example - INFO - Output directory deleted\n",
      "FolderSyncer - INFO - Synced '/home/crimson/Projects/manager/crimson/folder-syncer/example/folder_sync/syncer/folder_example/source/file2.py' to '/home/crimson/Projects/manager/crimson/folder-syncer/example/folder_sync/syncer/folder_example/output/file2.py'.\n",
      "FolderSyncer - INFO - Synced '/home/crimson/Projects/manager/crimson/folder-syncer/example/folder_sync/syncer/folder_example/source/file1.py' to '/home/crimson/Projects/manager/crimson/folder-syncer/example/folder_sync/syncer/folder_example/output/file1.py'.\n",
      "FolderSyncer - INFO - Synced '/home/crimson/Projects/manager/crimson/folder-syncer/example/folder_sync/syncer/folder_example/source/lvl2/file3.py' to '/home/crimson/Projects/manager/crimson/folder-syncer/example/folder_sync/syncer/folder_example/output/lvl2/file3.py'.\n"
     ]
    }
   ],
   "source": [
    "main_logger.set_level('INFO')\n",
    "\n",
    "delete_dir()\n",
    "initial_sync(source_dir, output_dir)"
   ]
  },
  {
   "cell_type": "code",
   "execution_count": 3,
   "metadata": {},
   "outputs": [
    {
     "name": "stderr",
     "output_type": "stream",
     "text": [
      "example - INFO - Output directory deleted\n",
      "FolderSyncer - INFO - Synced '/home/crimson/Projects/manager/crimson/folder-syncer/example/folder_sync/syncer/folder_example/source/file2.py' to '/home/crimson/Projects/manager/crimson/folder-syncer/example/folder_sync/syncer/folder_example/output/file2.py'.\n",
      "FolderSyncer - INFO - Synced '/home/crimson/Projects/manager/crimson/folder-syncer/example/folder_sync/syncer/folder_example/source/file1.py' to '/home/crimson/Projects/manager/crimson/folder-syncer/example/folder_sync/syncer/folder_example/output/file1.py'.\n",
      "FolderSyncer - INFO - Synced '/home/crimson/Projects/manager/crimson/folder-syncer/example/folder_sync/syncer/folder_example/source/lvl2/file3.py' to '/home/crimson/Projects/manager/crimson/folder-syncer/example/folder_sync/syncer/folder_example/output/lvl2/file3.py'.\n"
     ]
    }
   ],
   "source": [
    "main_logger.set_level('DEBUG')\n",
    "\n",
    "delete_dir()\n",
    "initial_sync(source_dir, output_dir)"
   ]
  },
  {
   "cell_type": "code",
   "execution_count": 4,
   "metadata": {},
   "outputs": [
    {
     "name": "stderr",
     "output_type": "stream",
     "text": [
      "example - INFO - Output directory deleted\n"
     ]
    }
   ],
   "source": [
    "main_logger = get_logger()\n",
    "main_logger.set_level('WARNING')\n",
    "\n",
    "delete_dir()\n",
    "initial_sync(source_dir, output_dir)"
   ]
  },
  {
   "cell_type": "code",
   "execution_count": 5,
   "metadata": {},
   "outputs": [
    {
     "name": "stderr",
     "output_type": "stream",
     "text": [
      "example - INFO - Output directory deleted\n"
     ]
    }
   ],
   "source": [
    "main_logger = get_logger()\n",
    "main_logger.set_level('CRITICAL')\n",
    "\n",
    "delete_dir()\n",
    "initial_sync(source_dir, output_dir)"
   ]
  }
 ],
 "metadata": {
  "kernelspec": {
   "display_name": "folder-sync",
   "language": "python",
   "name": "python3"
  },
  "language_info": {
   "codemirror_mode": {
    "name": "ipython",
    "version": 3
   },
   "file_extension": ".py",
   "mimetype": "text/x-python",
   "name": "python",
   "nbconvert_exporter": "python",
   "pygments_lexer": "ipython3",
   "version": "3.11.9"
  }
 },
 "nbformat": 4,
 "nbformat_minor": 2
}
