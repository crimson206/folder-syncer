{
 "cells": [
  {
   "cell_type": "code",
   "execution_count": 11,
   "metadata": {},
   "outputs": [],
   "source": [
    "from crimson.folder_sync.syncer import initial_sync\n",
    "from crimson.folder_sync.logger import get_logger\n",
    "from example_tools import (\n",
    "     delete_dir,\n",
    "     get_example_dirs,\n",
    ")\n",
    "import sys\n",
    "import time\n",
    "\n",
    "source_dir = \"./syncer/folder_example/source\"\n",
    "output_dir = \"./syncer/folder_example/output\"\n",
    "main_logger = get_logger()\n",
    "example_logger = get_logger(\"example\")"
   ]
  },
  {
   "cell_type": "code",
   "execution_count": 12,
   "metadata": {},
   "outputs": [
    {
     "name": "stderr",
     "output_type": "stream",
     "text": [
      "example - INFO - Directory, './syncer/folder_example/output',  deleted\n",
      "FolderSyncer - INFO - Synced './syncer/folder_example/source/file2.py' to './syncer/folder_example/output/file2.py'.\n",
      "FolderSyncer - INFO - Synced './syncer/folder_example/source/file1.py' to './syncer/folder_example/output/file1.py'.\n",
      "FolderSyncer - INFO - Synced './syncer/folder_example/source/lvl2/file3.py' to './syncer/folder_example/output/lvl2/file3.py'.\n"
     ]
    }
   ],
   "source": [
    "main_logger.set_level('INFO')\n",
    "\n",
    "delete_dir(output_dir)\n",
    "initial_sync(source_dir, output_dir)"
   ]
  },
  {
   "cell_type": "code",
   "execution_count": 13,
   "metadata": {},
   "outputs": [
    {
     "name": "stderr",
     "output_type": "stream",
     "text": [
      "example - INFO - Directory, './syncer/folder_example/output',  deleted\n",
      "FolderSyncer - INFO - Synced './syncer/folder_example/source/file2.py' to './syncer/folder_example/output/file2.py'.\n",
      "FolderSyncer - INFO - Synced './syncer/folder_example/source/file1.py' to './syncer/folder_example/output/file1.py'.\n",
      "FolderSyncer - INFO - Synced './syncer/folder_example/source/lvl2/file3.py' to './syncer/folder_example/output/lvl2/file3.py'.\n"
     ]
    }
   ],
   "source": [
    "main_logger.set_level('DEBUG')\n",
    "\n",
    "delete_dir(output_dir)\n",
    "initial_sync(source_dir, output_dir)"
   ]
  },
  {
   "cell_type": "code",
   "execution_count": 14,
   "metadata": {},
   "outputs": [
    {
     "name": "stderr",
     "output_type": "stream",
     "text": [
      "example - INFO - Directory, './syncer/folder_example/output',  deleted\n"
     ]
    }
   ],
   "source": [
    "main_logger = get_logger()\n",
    "main_logger.set_level('WARNING')\n",
    "\n",
    "delete_dir(output_dir)\n",
    "initial_sync(source_dir, output_dir)"
   ]
  },
  {
   "cell_type": "code",
   "execution_count": 15,
   "metadata": {},
   "outputs": [
    {
     "name": "stderr",
     "output_type": "stream",
     "text": [
      "example - INFO - Directory, './syncer/folder_example/output',  deleted\n"
     ]
    }
   ],
   "source": [
    "main_logger = get_logger()\n",
    "main_logger.set_level('CRITICAL')\n",
    "\n",
    "delete_dir(output_dir)\n",
    "initial_sync(source_dir, output_dir)"
   ]
  }
 ],
 "metadata": {
  "kernelspec": {
   "display_name": "folder-sync",
   "language": "python",
   "name": "python3"
  },
  "language_info": {
   "codemirror_mode": {
    "name": "ipython",
    "version": 3
   },
   "file_extension": ".py",
   "mimetype": "text/x-python",
   "name": "python",
   "nbconvert_exporter": "python",
   "pygments_lexer": "ipython3",
   "version": "3.11.9"
  }
 },
 "nbformat": 4,
 "nbformat_minor": 2
}
