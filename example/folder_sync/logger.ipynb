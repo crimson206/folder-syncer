{
 "cells": [
  {
   "cell_type": "code",
   "execution_count": 1,
   "metadata": {},
   "outputs": [],
   "source": [
    "from crimson.folder_sync.syncer.base_syncer import FolderSyncer\n",
    "from example_tools import (\n",
    "    delete_dir\n",
    ")\n",
    "\n",
    "from crimson.folder_sync.logger import get_logger\n",
    "from example_tools import (\n",
    "     delete_dir,\n",
    ")\n",
    "\n",
    "\n",
    "source_dir = \"./syncer/folder_example/source\"\n",
    "output_dir = \"./syncer/folder_example/output\"\n",
    "main_logger = get_logger()\n",
    "synchandler_logger = get_logger(\"SyncHandler\")\n",
    "example_logger = get_logger(\"example\")"
   ]
  },
  {
   "cell_type": "code",
   "execution_count": 2,
   "metadata": {},
   "outputs": [],
   "source": [
    "syncer = FolderSyncer(source_dir, output_dir, exclude=[\"*/file3.py\"])"
   ]
  },
  {
   "cell_type": "markdown",
   "metadata": {},
   "source": [
    "## Test Main(FolderSyncer) logger"
   ]
  },
  {
   "cell_type": "code",
   "execution_count": 3,
   "metadata": {},
   "outputs": [],
   "source": [
    "# Turn off SyncHandler Logger\n",
    "\n",
    "synchandler_logger.set_level('CRITICAL')"
   ]
  },
  {
   "cell_type": "code",
   "execution_count": 4,
   "metadata": {},
   "outputs": [
    {
     "name": "stderr",
     "output_type": "stream",
     "text": [
      "example - INFO - Directory, './syncer/folder_example/output',  deleted\n",
      "FolderSyncer - INFO - Performing Refresh sync...\n",
      "FolderSyncer - INFO - Refresh sync completed.\n"
     ]
    }
   ],
   "source": [
    "main_logger.set_level('INFO')\n",
    "\n",
    "delete_dir(output_dir)\n",
    "syncer.refresh_sync()"
   ]
  },
  {
   "cell_type": "code",
   "execution_count": 5,
   "metadata": {},
   "outputs": [
    {
     "name": "stderr",
     "output_type": "stream",
     "text": [
      "example - INFO - Directory, './syncer/folder_example/output',  deleted\n",
      "FolderSyncer - INFO - Performing Refresh sync...\n",
      "FolderSyncer - INFO - Refresh sync completed.\n"
     ]
    }
   ],
   "source": [
    "main_logger.set_level('DEBUG')\n",
    "\n",
    "delete_dir(output_dir)\n",
    "syncer.refresh_sync()"
   ]
  },
  {
   "cell_type": "code",
   "execution_count": 6,
   "metadata": {},
   "outputs": [
    {
     "name": "stderr",
     "output_type": "stream",
     "text": [
      "example - INFO - Directory, './syncer/folder_example/output',  deleted\n"
     ]
    }
   ],
   "source": [
    "main_logger = get_logger()\n",
    "main_logger.set_level('WARNING')\n",
    "\n",
    "delete_dir(output_dir)\n",
    "syncer.refresh_sync()"
   ]
  },
  {
   "cell_type": "code",
   "execution_count": 7,
   "metadata": {},
   "outputs": [
    {
     "name": "stderr",
     "output_type": "stream",
     "text": [
      "example - INFO - Directory, './syncer/folder_example/output',  deleted\n"
     ]
    }
   ],
   "source": [
    "main_logger = get_logger()\n",
    "main_logger.set_level('CRITICAL')\n",
    "\n",
    "delete_dir(output_dir)\n",
    "syncer.refresh_sync()"
   ]
  },
  {
   "cell_type": "markdown",
   "metadata": {},
   "source": [
    "## Test SyncHandler Logger"
   ]
  },
  {
   "cell_type": "code",
   "execution_count": 8,
   "metadata": {},
   "outputs": [],
   "source": [
    "# Turn ON SyncHandler Logger\n",
    "synchandler_logger.set_level('INFO')\n"
   ]
  },
  {
   "cell_type": "code",
   "execution_count": 9,
   "metadata": {},
   "outputs": [
    {
     "name": "stderr",
     "output_type": "stream",
     "text": [
      "example - INFO - Directory, './syncer/folder_example/output',  deleted\n",
      "SyncHandler - INFO - Performing Refresh sync...\n",
      "SyncHandler - INFO - Synced './syncer/folder_example/source/file2.py' to './syncer/folder_example/output/file2.py'.\n",
      "SyncHandler - INFO - Synced './syncer/folder_example/source/file1.py' to './syncer/folder_example/output/file1.py'.\n",
      "SyncHandler - INFO - Refresh sync completed.\n"
     ]
    }
   ],
   "source": [
    "delete_dir(output_dir)\n",
    "syncer.refresh_sync()"
   ]
  }
 ],
 "metadata": {
  "kernelspec": {
   "display_name": "folder-sync",
   "language": "python",
   "name": "python3"
  },
  "language_info": {
   "codemirror_mode": {
    "name": "ipython",
    "version": 3
   },
   "file_extension": ".py",
   "mimetype": "text/x-python",
   "name": "python",
   "nbconvert_exporter": "python",
   "pygments_lexer": "ipython3",
   "version": "3.11.9"
  }
 },
 "nbformat": 4,
 "nbformat_minor": 2
}
