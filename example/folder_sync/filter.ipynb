{
 "cells": [
  {
   "cell_type": "code",
   "execution_count": 1,
   "metadata": {},
   "outputs": [],
   "source": [
    "from crimson.folder_sync.filter import filter_paths\n",
    "from typing import TypedDict, List, Union\n",
    "\n",
    "\n",
    "class FilterProps_(TypedDict):\n",
    "    path: str\n",
    "    include: Union[List[str], str]\n",
    "    exclude: Union[List[str], str]"
   ]
  },
  {
   "cell_type": "code",
   "execution_count": 6,
   "metadata": {},
   "outputs": [],
   "source": [
    "class TestPaths:\n",
    "    \"\"\"\n",
    "    ``` python\n",
    "    test_paths = [\n",
    "        \"/path/to/file1.txt\",\n",
    "        \"/path/to/file2.doc\",\n",
    "        \"/path/to/image1.jpg\",\n",
    "        \"/path/to/image2.png\",\n",
    "        \"/path/to/script.py\",\n",
    "        \"/path/to/test_script.py\",\n",
    "        \"/path/to/temp_file.tmp\",\n",
    "        \"/another/path/to/important.txt\",\n",
    "        \"/another/path/to/backup.bak\"\n",
    "    ]\n",
    "    ```\n",
    "    \"\"\"\n",
    "    data = [\n",
    "            \"/path/to/file1.txt\",\n",
    "            \"/path/to/file2.doc\",\n",
    "            \"/path/to/image1.jpg\",\n",
    "            \"/path/to/image2.png\",\n",
    "            \"/path/to/script.py\",\n",
    "            \"/path/to/test_script.py\",\n",
    "            \"/path/to/temp_file.tmp\",\n",
    "            \"/another/path/to/important.txt\",\n",
    "            \"/another/path/to/backup.bak\"\n",
    "        ]\n",
    "\n"
   ]
  },
  {
   "cell_type": "code",
   "execution_count": 8,
   "metadata": {},
   "outputs": [
    {
     "data": {
      "text/plain": [
       "['/path/to/file1.txt', '/another/path/to/important.txt']"
      ]
     },
     "execution_count": 8,
     "metadata": {},
     "output_type": "execute_result"
    }
   ],
   "source": [
    "# Include only .txt files\n",
    "output = filter_paths(\n",
    "    paths = TestPaths.data,\n",
    "    include = \"*.txt\",\n",
    "    exclude = \"\",\n",
    ")\n",
    "\n",
    "assert output == ['/path/to/file1.txt', '/another/path/to/important.txt']\n",
    "\n",
    "output"
   ]
  },
  {
   "cell_type": "code",
   "execution_count": 10,
   "metadata": {},
   "outputs": [
    {
     "data": {
      "text/plain": [
       "['/path/to/file1.txt', '/path/to/file2.doc', '/another/path/to/important.txt']"
      ]
     },
     "execution_count": 10,
     "metadata": {},
     "output_type": "execute_result"
    }
   ],
   "source": [
    "# Include .txt and .doc files\n",
    "output = filter_paths(\n",
    "    paths = TestPaths.data,\n",
    "    include = [\"*.txt\", \"*.doc\"],\n",
    "    exclude = \"\",\n",
    ")\n",
    "\n",
    "assert output == ['/path/to/file1.txt', '/path/to/file2.doc', '/another/path/to/important.txt']\n",
    "\n",
    "output"
   ]
  },
  {
   "cell_type": "code",
   "execution_count": 12,
   "metadata": {},
   "outputs": [
    {
     "data": {
      "text/plain": [
       "['/path/to/file1.txt',\n",
       " '/path/to/file2.doc',\n",
       " '/path/to/image1.jpg',\n",
       " '/path/to/image2.png',\n",
       " '/path/to/temp_file.tmp',\n",
       " '/another/path/to/important.txt',\n",
       " '/another/path/to/backup.bak']"
      ]
     },
     "execution_count": 12,
     "metadata": {},
     "output_type": "execute_result"
    }
   ],
   "source": [
    "# Exclude .py files\n",
    "output = filter_paths(\n",
    "    paths = TestPaths.data,\n",
    "    include = \"\",\n",
    "    exclude = \"*.py\",\n",
    ")\n",
    "\n",
    "assert output == ['/path/to/file1.txt',\n",
    " '/path/to/file2.doc',\n",
    " '/path/to/image1.jpg',\n",
    " '/path/to/image2.png',\n",
    " '/path/to/temp_file.tmp',\n",
    " '/another/path/to/important.txt',\n",
    " '/another/path/to/backup.bak']\n",
    "\n",
    "output"
   ]
  },
  {
   "cell_type": "code",
   "execution_count": 18,
   "metadata": {},
   "outputs": [
    {
     "data": {
      "text/plain": [
       "['/path/to/file1.txt', '/another/path/to/important.txt']"
      ]
     },
     "execution_count": 18,
     "metadata": {},
     "output_type": "execute_result"
    }
   ],
   "source": [
    "# Include .txt files but exclude 'test' in filename\n",
    "output = filter_paths(\n",
    "    paths = TestPaths.data,\n",
    "    include = \"*.txt\",\n",
    "    exclude = \"*test*\",\n",
    ")\n",
    "\n",
    "assert output == ['/path/to/file1.txt', '/another/path/to/important.txt']\n",
    "\n",
    "output"
   ]
  },
  {
   "cell_type": "code",
   "execution_count": 19,
   "metadata": {},
   "outputs": [
    {
     "data": {
      "text/plain": [
       "['/path/to/script.py']"
      ]
     },
     "execution_count": 19,
     "metadata": {},
     "output_type": "execute_result"
    }
   ],
   "source": [
    "# Include .py files, exclude 'test' in filename\n",
    "output = filter_paths(\n",
    "    paths = TestPaths.data,\n",
    "    include = [\"*.py\"],\n",
    "    exclude = [\"*test*\"],\n",
    ")\n",
    "\n",
    "assert output == ['/path/to/script.py']\n",
    "\n",
    "output"
   ]
  },
  {
   "cell_type": "code",
   "execution_count": 20,
   "metadata": {},
   "outputs": [
    {
     "data": {
      "text/plain": [
       "['/path/to/image1.jpg', '/path/to/image2.png']"
      ]
     },
     "execution_count": 20,
     "metadata": {},
     "output_type": "execute_result"
    }
   ],
   "source": [
    "# Include all image files (.jpg and .png)\n",
    "output = filter_paths(\n",
    "    paths = TestPaths.data,\n",
    "    include = [\"*.jpg\", \"*.png\"],\n",
    "    exclude = \"\",\n",
    ")\n",
    "\n",
    "assert output == ['/path/to/image1.jpg', '/path/to/image2.png']\n",
    "\n",
    "output"
   ]
  },
  {
   "cell_type": "code",
   "execution_count": 23,
   "metadata": {},
   "outputs": [
    {
     "data": {
      "text/plain": [
       "['/another/path/to/important.txt', '/another/path/to/backup.bak']"
      ]
     },
     "execution_count": 23,
     "metadata": {},
     "output_type": "execute_result"
    }
   ],
   "source": [
    "# Include files in '/another/path/' directory\n",
    "output = filter_paths(\n",
    "    paths = TestPaths.data,\n",
    "    include = \"/another/path/*\",\n",
    "    exclude = \"\",\n",
    ")\n",
    "\n",
    "assert output == output\n",
    "\n",
    "output"
   ]
  }
 ],
 "metadata": {
  "kernelspec": {
   "display_name": "folder-sync",
   "language": "python",
   "name": "python3"
  },
  "language_info": {
   "codemirror_mode": {
    "name": "ipython",
    "version": 3
   },
   "file_extension": ".py",
   "mimetype": "text/x-python",
   "name": "python",
   "nbconvert_exporter": "python",
   "pygments_lexer": "ipython3",
   "version": "3.11.9"
  }
 },
 "nbformat": 4,
 "nbformat_minor": 2
}
